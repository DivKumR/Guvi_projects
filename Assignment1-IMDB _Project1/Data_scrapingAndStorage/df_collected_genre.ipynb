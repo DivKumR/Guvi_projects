{
 "cells": [
  {
   "cell_type": "code",
   "execution_count": null,
   "id": "fff1d801",
   "metadata": {},
   "outputs": [],
   "source": [
    "\"\"\" !-- This file handles part of Task1: Data Scraping and Storage\n",
    "1. Combine Data: Merge all genre-wise CSVs into a single DataFrame.\n",
    "2. SQL Storage: Store the merged dataset into an SQL database for querying and future analysis.\n",
    "\n",
    "\n",
    "**NOTE: MAke Sure to read the comments for steps to be followed \"\"\""
   ]
  },
  {
   "cell_type": "code",
   "execution_count": 3,
   "id": "2222ea07",
   "metadata": {},
   "outputs": [
    {
     "name": "stdout",
     "output_type": "stream",
     "text": [
      "Requirement already satisfied: mysql-connector-python in c:\\users\\v-dhramaraj\\appdata\\local\\anaconda3\\lib\\site-packages (9.2.0)\n",
      "Note: you may need to restart the kernel to use updated packages.\n"
     ]
    }
   ],
   "source": [
    "# Import external modules and libraries for python\n",
    "import pandas as pd\n",
    "import glob\n",
    "%pip install mysql-connector-python\n",
    "import mysql.connector"
   ]
  },
  {
   "cell_type": "code",
   "execution_count": 4,
   "id": "50ec554a",
   "metadata": {},
   "outputs": [],
   "source": [
    "import os\n",
    "os.chdir(\"C:/Users/v-dhramaraj/Desktop/Python/Projects/IMDB _Project1/Data_scrapingAndStorage/IMDB_Project1_CollectedCsvData\") # Define Path to store the csv file\n",
    "# print(os.getcwd())"
   ]
  },
  {
   "cell_type": "code",
   "execution_count": 4,
   "id": "f23372ed",
   "metadata": {},
   "outputs": [
    {
     "name": "stdout",
     "output_type": "stream",
     "text": [
      "                       Title  Rating Votes Duration    Genre\n",
      "0          Kraven the Hunter     5.5   52K    2h 7m   Action\n",
      "1               Gladiator II     6.5  225K   2h 28m   Action\n",
      "2                   Twisters     6.5  165K    2h 2m   Action\n",
      "3       Sonic the Hedgehog 3     6.9   57K   1h 50m   Action\n",
      "4      Venom: The Last Dance     6.0  114K   1h 50m   Action\n",
      "..                       ...     ...   ...      ...      ...\n",
      "995       The Everything Pot     7.3    32   1h 30m  Romance\n",
      "996          My Ex's Wedding     8.6    46   1h 35m  Romance\n",
      "997                     Else     6.1   230   1h 40m  Romance\n",
      "998  A Merry Royal Christmas     5.2   144   1h 28m  Romance\n",
      "999   Chainsaws Were Singing     7.2   355   1h 57m  Romance\n",
      "\n",
      "[1000 rows x 5 columns]\n"
     ]
    }
   ],
   "source": [
    "\"\"\" # Combine Data: Merge all genre-wise CSVs into a single DataFrame. \"\"\"\n",
    "\n",
    "# Specify the path where your CSV files are located\n",
    "csv_files = glob.glob(\"*.csv\")\n",
    "\n",
    "# Read and merge all CSV files into a single DataFrame\n",
    "movies_all_df = pd.DataFrame()\n",
    "movies_all_df = pd.concat([pd.read_csv(file) for file in csv_files], ignore_index=True)\n",
    "# movies_all_df.to_csv(r\"C:/Users/v-dhramaraj/Desktop/Python/Projects/IMDB _Project1/Data_scrapingAndStorage/movies_all.csv\", index=False)\n",
    "\n",
    "# Display the merged DataFrame\n",
    "print(movies_all_df)"
   ]
  },
  {
   "cell_type": "code",
   "execution_count": null,
   "id": "0dea6405",
   "metadata": {},
   "outputs": [
    {
     "name": "stdout",
     "output_type": "stream",
     "text": [
      "^C\n",
      "Note: you may need to restart the kernel to use updated packages.\n",
      "Requirement already satisfied: mysql-connector-python in c:\\users\\v-dhramaraj\\appdata\\local\\anaconda3\\lib\\site-packages (9.2.0)\n",
      "Successfully connected to the 'imdb_movies' database!\n",
      "Successfully created table 'imdb_movies'!\n"
     ]
    }
   ],
   "source": [
    "%pip install mysql-connector-python\n",
    "import mysql.connector\n",
    "from sqlalchemy import create_engine\n",
    "\n",
    "\"\"\" NOTE:  !--  Run this code only once, to avoid data duplication/multiple entry --!\"\"\"\n",
    "# Connect to MySQL Workbench and create database if it doesn't exist\n",
    "\n",
    "# # Create a connection to your MySQL database\n",
    "# engine = create_engine(\"mysql+mysqlconnector://dhiviya:******@25@localhost/imdb_movies\")\n",
    "# # Verify connection\n",
    "# with engine.connect() as connection:\n",
    "#     print(\"Connected to MySQL successfully!\")\n",
    "# # Store the DataFrame in MySQL\n",
    "# movies_all_df.to_sql(name=\"movies_data\", con=engine, if_exists=\"replace\", index=False)\n",
    "\n",
    "\n",
    "# Connect to MySQL Workbench and create database if it doesn't exist\n",
    "\n",
    "conn = mysql.connector.connect(\n",
    "    host=\"localhost\",  # Change this if connecting to a remote server\n",
    "    user=\"USERNAME\",  # Replace with your MySQL username\n",
    "    password=\"PASSWORD\",  # Replace with your MySQL password\n",
    ")\n",
    "\n",
    "# Create a cursor object\n",
    "cursor = conn.cursor()\n",
    "cursor.execute(\"CREATE DATABASE IF NOT EXISTS imdb_movies\") # Create the database if it doesn't exist\n",
    "conn.commit() # Commit changes\n",
    "# Close the initial connection\n",
    "cursor.close()\n",
    "conn.close()\n",
    "\n",
    "# Connect to the new database created //imdb_movies\n",
    "conn = mysql.connector.connect(\n",
    "    host=\"localhost\",\n",
    "    user=\"USERNAME\",\n",
    "    password=\"PASSWORD\",\n",
    "    database=\"imdb_movies\"\n",
    ")\n",
    "cursor = conn.cursor()\n",
    "print(\"Successfully connected to the 'imdb_movies' database!\")\n",
    "\n",
    "# Create a table if it doesn't exist\n",
    "create_table= \"\"\"\n",
    "    CREATE TABLE IF NOT EXISTS imdb_movies (\n",
    "        id INT AUTO_INCREMENT PRIMARY KEY,\n",
    "        title VARCHAR(255),\n",
    "        rating VARCHAR(255),\n",
    "        votes VARCHAR(255),\n",
    "        duration VARCHAR(255),\n",
    "        genre VARCHAR(255)\n",
    "    )\n",
    "\"\"\"\n",
    "cursor.execute(create_table)\n",
    "print(\"Successfully created table 'imdb_movies'!\")\n",
    "\n",
    "# Insert data into the table\n",
    "\n",
    "movies_all_df = movies_all_df.infer_objects(copy=False)  # Ensures proper dtype inference\n",
    "movies_all_df = movies_all_df.fillna(0)  # Replace NaN with 0 for numeric columns\n",
    "data_to_insert = movies_all_df.values.tolist() # Convert DataFrame to a list of tuples\n",
    "\n",
    "insert_query = \"INSERT INTO imdb_movies(title, rating, votes, duration, genre) VALUES (%s, %s, %s, %s, %s)\" # Insert data into the table\n",
    "cursor.executemany(insert_query, data_to_insert)\n",
    "conn.commit()\n",
    "\n",
    "# Always remember to close the connection when done\n",
    "cursor.close()\n",
    "conn.close()\n"
   ]
  },
  {
   "cell_type": "code",
   "execution_count": null,
   "id": "ebc258c7",
   "metadata": {},
   "outputs": [
    {
     "name": "stdout",
     "output_type": "stream",
     "text": [
      "Successfully connected to the 'imdb_movies' database!\n",
      "       id                    title rating votes duration    genre\n",
      "0       1        Kraven the Hunter    5.5   52K    2h 7m   Action\n",
      "1       2             Gladiator II    6.5  225K   2h 28m   Action\n",
      "2       3                 Twisters    6.5  165K    2h 2m   Action\n",
      "3       4     Sonic the Hedgehog 3    6.9   57K   1h 50m   Action\n",
      "4       5    Venom: The Last Dance    6.0  114K   1h 50m   Action\n",
      "..    ...                      ...    ...   ...      ...      ...\n",
      "995   996       The Everything Pot    7.3    32   1h 30m  Romance\n",
      "996   997          My Ex's Wedding    8.6    46   1h 35m  Romance\n",
      "997   998                     Else    6.1   230   1h 40m  Romance\n",
      "998   999  A Merry Royal Christmas    5.2   144   1h 28m  Romance\n",
      "999  1000   Chainsaws Were Singing    7.2   355   1h 57m  Romance\n",
      "\n",
      "[1000 rows x 6 columns]\n"
     ]
    },
    {
     "name": "stderr",
     "output_type": "stream",
     "text": [
      "C:\\Users\\v-dhramaraj\\AppData\\Local\\Temp\\ipykernel_36740\\2968407491.py:11: UserWarning: pandas only supports SQLAlchemy connectable (engine/connection) or database string URI or sqlite3 DBAPI2 connection. Other DBAPI2 objects are not tested. Please consider using SQLAlchemy.\n",
      "  moviesTable_df = pd.read_sql(query, conn)\n"
     ]
    }
   ],
   "source": [
    "# Connect to the new database created //imdb_movies\n",
    "conn = mysql.connector.connect(\n",
    "    host=\"localhost\",\n",
    "    user=\"USERNAME\",\n",
    "    password=\"PASSWORD\",\n",
    "    database=\"imdb_movies\"\n",
    ")\n",
    "cursor = conn.cursor()\n",
    "print(\"Successfully connected to the 'imdb_movies' database!\")\n",
    "query = \"SELECT * FROM imdb_movies;\"\n",
    "moviesTable_df = pd.read_sql(query, conn)\n",
    "print(moviesTable_df)\n",
    "# print(moviesTable_df.head())  # Display first few rows\n",
    "\n",
    "# cursor.execute(\"TRUNCATE TABLE imdb_movies;\")\n",
    "# conn.commit()\n",
    "\n",
    "cursor.close()\n",
    "conn.close()"
   ]
  }
 ],
 "metadata": {
  "kernelspec": {
   "display_name": "base",
   "language": "python",
   "name": "python3"
  },
  "language_info": {
   "codemirror_mode": {
    "name": "ipython",
    "version": 3
   },
   "file_extension": ".py",
   "mimetype": "text/x-python",
   "name": "python",
   "nbconvert_exporter": "python",
   "pygments_lexer": "ipython3",
   "version": "3.12.7"
  }
 },
 "nbformat": 4,
 "nbformat_minor": 5
}
